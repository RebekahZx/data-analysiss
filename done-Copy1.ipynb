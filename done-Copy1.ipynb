{
 "cells": [
  {
   "cell_type": "markdown",
   "id": "a9cc76f3",
   "metadata": {},
   "source": [
    "IMPORTING LIBRARIES"
   ]
  },
  {
   "cell_type": "code",
   "execution_count": 1,
   "id": "58c29124",
   "metadata": {},
   "outputs": [],
   "source": [
    "import pandas as pd"
   ]
  },
  {
   "cell_type": "code",
   "execution_count": 2,
   "id": "fc4e5671",
   "metadata": {},
   "outputs": [],
   "source": [
    "import numpy as np"
   ]
  },
  {
   "cell_type": "markdown",
   "id": "43703aac",
   "metadata": {},
   "source": [
    "DATA CLEANING"
   ]
  },
  {
   "cell_type": "code",
   "execution_count": 3,
   "id": "ba3b9be8",
   "metadata": {},
   "outputs": [],
   "source": [
    "file=pd.read_csv(\"Book 2.csv\")"
   ]
  },
  {
   "cell_type": "code",
   "execution_count": 4,
   "id": "5b73f461",
   "metadata": {},
   "outputs": [
    {
     "data": {
      "text/html": [
       "<div>\n",
       "<style scoped>\n",
       "    .dataframe tbody tr th:only-of-type {\n",
       "        vertical-align: middle;\n",
       "    }\n",
       "\n",
       "    .dataframe tbody tr th {\n",
       "        vertical-align: top;\n",
       "    }\n",
       "\n",
       "    .dataframe thead th {\n",
       "        text-align: right;\n",
       "    }\n",
       "</style>\n",
       "<table border=\"1\" class=\"dataframe\">\n",
       "  <thead>\n",
       "    <tr style=\"text-align: right;\">\n",
       "      <th></th>\n",
       "      <th>EmployeeID</th>\n",
       "      <th>Name</th>\n",
       "      <th>Age</th>\n",
       "      <th>Gender</th>\n",
       "      <th>Department</th>\n",
       "      <th>Salary</th>\n",
       "      <th>Experience</th>\n",
       "    </tr>\n",
       "  </thead>\n",
       "  <tbody>\n",
       "    <tr>\n",
       "      <th>0</th>\n",
       "      <td>1</td>\n",
       "      <td>Mike</td>\n",
       "      <td>41</td>\n",
       "      <td>Female</td>\n",
       "      <td>HR</td>\n",
       "      <td>76289</td>\n",
       "      <td>16</td>\n",
       "    </tr>\n",
       "    <tr>\n",
       "      <th>1</th>\n",
       "      <td>2</td>\n",
       "      <td>Emily</td>\n",
       "      <td>46</td>\n",
       "      <td>Male</td>\n",
       "      <td>IT</td>\n",
       "      <td>53389</td>\n",
       "      <td>10</td>\n",
       "    </tr>\n",
       "    <tr>\n",
       "      <th>2</th>\n",
       "      <td>3</td>\n",
       "      <td>Doe</td>\n",
       "      <td>43</td>\n",
       "      <td>Female</td>\n",
       "      <td>IT</td>\n",
       "      <td>75683</td>\n",
       "      <td>16</td>\n",
       "    </tr>\n",
       "    <tr>\n",
       "      <th>3</th>\n",
       "      <td>4</td>\n",
       "      <td>Emily</td>\n",
       "      <td>34</td>\n",
       "      <td>Male</td>\n",
       "      <td>HR</td>\n",
       "      <td>63629</td>\n",
       "      <td>12</td>\n",
       "    </tr>\n",
       "    <tr>\n",
       "      <th>4</th>\n",
       "      <td>5</td>\n",
       "      <td>Emily</td>\n",
       "      <td>40</td>\n",
       "      <td>Male</td>\n",
       "      <td>IT</td>\n",
       "      <td>74826</td>\n",
       "      <td>17</td>\n",
       "    </tr>\n",
       "  </tbody>\n",
       "</table>\n",
       "</div>"
      ],
      "text/plain": [
       "   EmployeeID   Name  Age  Gender Department  Salary  Experience\n",
       "0           1   Mike   41  Female         HR   76289          16\n",
       "1           2  Emily   46    Male         IT   53389          10\n",
       "2           3    Doe   43  Female         IT   75683          16\n",
       "3           4  Emily   34    Male         HR   63629          12\n",
       "4           5  Emily   40    Male         IT   74826          17"
      ]
     },
     "execution_count": 4,
     "metadata": {},
     "output_type": "execute_result"
    }
   ],
   "source": [
    "file.head()"
   ]
  },
  {
   "cell_type": "code",
   "execution_count": 5,
   "id": "1492e925",
   "metadata": {},
   "outputs": [
    {
     "data": {
      "text/html": [
       "<div>\n",
       "<style scoped>\n",
       "    .dataframe tbody tr th:only-of-type {\n",
       "        vertical-align: middle;\n",
       "    }\n",
       "\n",
       "    .dataframe tbody tr th {\n",
       "        vertical-align: top;\n",
       "    }\n",
       "\n",
       "    .dataframe thead th {\n",
       "        text-align: right;\n",
       "    }\n",
       "</style>\n",
       "<table border=\"1\" class=\"dataframe\">\n",
       "  <thead>\n",
       "    <tr style=\"text-align: right;\">\n",
       "      <th></th>\n",
       "      <th>EmployeeID</th>\n",
       "      <th>Name</th>\n",
       "      <th>Age</th>\n",
       "      <th>Gender</th>\n",
       "      <th>Department</th>\n",
       "      <th>Salary</th>\n",
       "      <th>Experience</th>\n",
       "    </tr>\n",
       "  </thead>\n",
       "  <tbody>\n",
       "    <tr>\n",
       "      <th>0</th>\n",
       "      <td>False</td>\n",
       "      <td>False</td>\n",
       "      <td>False</td>\n",
       "      <td>False</td>\n",
       "      <td>False</td>\n",
       "      <td>False</td>\n",
       "      <td>False</td>\n",
       "    </tr>\n",
       "    <tr>\n",
       "      <th>1</th>\n",
       "      <td>False</td>\n",
       "      <td>False</td>\n",
       "      <td>False</td>\n",
       "      <td>False</td>\n",
       "      <td>False</td>\n",
       "      <td>False</td>\n",
       "      <td>False</td>\n",
       "    </tr>\n",
       "    <tr>\n",
       "      <th>2</th>\n",
       "      <td>False</td>\n",
       "      <td>False</td>\n",
       "      <td>False</td>\n",
       "      <td>False</td>\n",
       "      <td>False</td>\n",
       "      <td>False</td>\n",
       "      <td>False</td>\n",
       "    </tr>\n",
       "    <tr>\n",
       "      <th>3</th>\n",
       "      <td>False</td>\n",
       "      <td>False</td>\n",
       "      <td>False</td>\n",
       "      <td>False</td>\n",
       "      <td>False</td>\n",
       "      <td>False</td>\n",
       "      <td>False</td>\n",
       "    </tr>\n",
       "    <tr>\n",
       "      <th>4</th>\n",
       "      <td>False</td>\n",
       "      <td>False</td>\n",
       "      <td>False</td>\n",
       "      <td>False</td>\n",
       "      <td>False</td>\n",
       "      <td>False</td>\n",
       "      <td>False</td>\n",
       "    </tr>\n",
       "    <tr>\n",
       "      <th>...</th>\n",
       "      <td>...</td>\n",
       "      <td>...</td>\n",
       "      <td>...</td>\n",
       "      <td>...</td>\n",
       "      <td>...</td>\n",
       "      <td>...</td>\n",
       "      <td>...</td>\n",
       "    </tr>\n",
       "    <tr>\n",
       "      <th>495</th>\n",
       "      <td>False</td>\n",
       "      <td>False</td>\n",
       "      <td>False</td>\n",
       "      <td>False</td>\n",
       "      <td>False</td>\n",
       "      <td>False</td>\n",
       "      <td>False</td>\n",
       "    </tr>\n",
       "    <tr>\n",
       "      <th>496</th>\n",
       "      <td>False</td>\n",
       "      <td>False</td>\n",
       "      <td>False</td>\n",
       "      <td>False</td>\n",
       "      <td>False</td>\n",
       "      <td>False</td>\n",
       "      <td>False</td>\n",
       "    </tr>\n",
       "    <tr>\n",
       "      <th>497</th>\n",
       "      <td>False</td>\n",
       "      <td>False</td>\n",
       "      <td>False</td>\n",
       "      <td>False</td>\n",
       "      <td>False</td>\n",
       "      <td>False</td>\n",
       "      <td>False</td>\n",
       "    </tr>\n",
       "    <tr>\n",
       "      <th>498</th>\n",
       "      <td>False</td>\n",
       "      <td>False</td>\n",
       "      <td>False</td>\n",
       "      <td>False</td>\n",
       "      <td>False</td>\n",
       "      <td>False</td>\n",
       "      <td>False</td>\n",
       "    </tr>\n",
       "    <tr>\n",
       "      <th>499</th>\n",
       "      <td>False</td>\n",
       "      <td>False</td>\n",
       "      <td>False</td>\n",
       "      <td>False</td>\n",
       "      <td>False</td>\n",
       "      <td>False</td>\n",
       "      <td>False</td>\n",
       "    </tr>\n",
       "  </tbody>\n",
       "</table>\n",
       "<p>500 rows × 7 columns</p>\n",
       "</div>"
      ],
      "text/plain": [
       "     EmployeeID   Name    Age  Gender  Department  Salary  Experience\n",
       "0         False  False  False   False       False   False       False\n",
       "1         False  False  False   False       False   False       False\n",
       "2         False  False  False   False       False   False       False\n",
       "3         False  False  False   False       False   False       False\n",
       "4         False  False  False   False       False   False       False\n",
       "..          ...    ...    ...     ...         ...     ...         ...\n",
       "495       False  False  False   False       False   False       False\n",
       "496       False  False  False   False       False   False       False\n",
       "497       False  False  False   False       False   False       False\n",
       "498       False  False  False   False       False   False       False\n",
       "499       False  False  False   False       False   False       False\n",
       "\n",
       "[500 rows x 7 columns]"
      ]
     },
     "execution_count": 5,
     "metadata": {},
     "output_type": "execute_result"
    }
   ],
   "source": [
    "file.isnull()"
   ]
  },
  {
   "cell_type": "code",
   "execution_count": 6,
   "id": "03c9688c",
   "metadata": {},
   "outputs": [],
   "source": [
    "file['salary_per_year']=file['Salary']/file['Experience']"
   ]
  },
  {
   "cell_type": "code",
   "execution_count": 7,
   "id": "c199f4d0",
   "metadata": {},
   "outputs": [
    {
     "name": "stdout",
     "output_type": "stream",
     "text": [
      "     EmployeeID   Name  Age  Gender Department  Salary  Experience  \\\n",
      "0             1   Mike   41  Female         HR   76289          16   \n",
      "1             2  Emily   46    Male         IT   53389          10   \n",
      "2             3    Doe   43  Female         IT   75683          16   \n",
      "3             4  Emily   34    Male         HR   63629          12   \n",
      "4             5  Emily   40    Male         IT   74826          17   \n",
      "..          ...    ...  ...     ...        ...     ...         ...   \n",
      "495         496   John   49    Male         IT   98604           1   \n",
      "496         497    Doe   52    Male         HR   60526          18   \n",
      "497         498   John   30  Female  Marketing   53374           4   \n",
      "498         499   John   50  Female  Marketing   75592          10   \n",
      "499         500   John   35    Male  Marketing   78982           7   \n",
      "\n",
      "     salary_per_year  \n",
      "0        4768.062500  \n",
      "1        5338.900000  \n",
      "2        4730.187500  \n",
      "3        5302.416667  \n",
      "4        4401.529412  \n",
      "..               ...  \n",
      "495     98604.000000  \n",
      "496      3362.555556  \n",
      "497     13343.500000  \n",
      "498      7559.200000  \n",
      "499     11283.142857  \n",
      "\n",
      "[500 rows x 8 columns]\n"
     ]
    }
   ],
   "source": [
    "print(file)"
   ]
  },
  {
   "cell_type": "code",
   "execution_count": 8,
   "id": "d9d0874e",
   "metadata": {},
   "outputs": [],
   "source": [
    "file=file[['EmployeeID',   'Name',  'Age',  'Gender', 'Department',  'Salary',  'Experience', 'salary_per_year']]"
   ]
  },
  {
   "cell_type": "code",
   "execution_count": 9,
   "id": "4c40613e",
   "metadata": {},
   "outputs": [
    {
     "name": "stdout",
     "output_type": "stream",
     "text": [
      "     EmployeeID   Name  Age  Gender Department  Salary  Experience  \\\n",
      "0             1   Mike   41  Female         HR   76289          16   \n",
      "1             2  Emily   46    Male         IT   53389          10   \n",
      "2             3    Doe   43  Female         IT   75683          16   \n",
      "3             4  Emily   34    Male         HR   63629          12   \n",
      "4             5  Emily   40    Male         IT   74826          17   \n",
      "..          ...    ...  ...     ...        ...     ...         ...   \n",
      "495         496   John   49    Male         IT   98604           1   \n",
      "496         497    Doe   52    Male         HR   60526          18   \n",
      "497         498   John   30  Female  Marketing   53374           4   \n",
      "498         499   John   50  Female  Marketing   75592          10   \n",
      "499         500   John   35    Male  Marketing   78982           7   \n",
      "\n",
      "     salary_per_year  \n",
      "0        4768.062500  \n",
      "1        5338.900000  \n",
      "2        4730.187500  \n",
      "3        5302.416667  \n",
      "4        4401.529412  \n",
      "..               ...  \n",
      "495     98604.000000  \n",
      "496      3362.555556  \n",
      "497     13343.500000  \n",
      "498      7559.200000  \n",
      "499     11283.142857  \n",
      "\n",
      "[500 rows x 8 columns]\n"
     ]
    }
   ],
   "source": [
    "print(file)"
   ]
  },
  {
   "cell_type": "code",
   "execution_count": 10,
   "id": "f4b85bdb",
   "metadata": {},
   "outputs": [],
   "source": [
    "data = pd.DataFrame(file)"
   ]
  },
  {
   "cell_type": "code",
   "execution_count": 11,
   "id": "3f6aa6d1",
   "metadata": {},
   "outputs": [
    {
     "name": "stdout",
     "output_type": "stream",
     "text": [
      "     EmployeeID   Name  Age  Gender Department  Salary  Experience  \\\n",
      "0             1   Mike   41  Female         HR   76289          16   \n",
      "1             2  Emily   46    Male         IT   53389          10   \n",
      "2             3    Doe   43  Female         IT   75683          16   \n",
      "3             4  Emily   34    Male         HR   63629          12   \n",
      "4             5  Emily   40    Male         IT   74826          17   \n",
      "..          ...    ...  ...     ...        ...     ...         ...   \n",
      "495         496   John   49    Male         IT   98604           1   \n",
      "496         497    Doe   52    Male         HR   60526          18   \n",
      "497         498   John   30  Female  Marketing   53374           4   \n",
      "498         499   John   50  Female  Marketing   75592          10   \n",
      "499         500   John   35    Male  Marketing   78982           7   \n",
      "\n",
      "     salary_per_year  \n",
      "0        4768.062500  \n",
      "1        5338.900000  \n",
      "2        4730.187500  \n",
      "3        5302.416667  \n",
      "4        4401.529412  \n",
      "..               ...  \n",
      "495     98604.000000  \n",
      "496      3362.555556  \n",
      "497     13343.500000  \n",
      "498      7559.200000  \n",
      "499     11283.142857  \n",
      "\n",
      "[500 rows x 8 columns]\n"
     ]
    }
   ],
   "source": [
    "print(file)"
   ]
  },
  {
   "cell_type": "code",
   "execution_count": 12,
   "id": "107f64e4",
   "metadata": {},
   "outputs": [],
   "source": [
    "path=r\"C:\\Users\\91636\\OneDrive\\Desktop\\skill\\new\""
   ]
  },
  {
   "cell_type": "code",
   "execution_count": 13,
   "id": "d9ff2217",
   "metadata": {},
   "outputs": [],
   "source": [
    "file.to_csv(path,index=False)"
   ]
  },
  {
   "cell_type": "markdown",
   "id": "4a583e62",
   "metadata": {},
   "source": [
    "AVERAGE SALARIES OF EVERY DEPT"
   ]
  },
  {
   "cell_type": "markdown",
   "id": "96a91026",
   "metadata": {},
   "source": [
    "# part 2\n"
   ]
  },
  {
   "cell_type": "markdown",
   "id": "26506e94",
   "metadata": {},
   "source": [
    "AVERAGE SALARY"
   ]
  },
  {
   "cell_type": "code",
   "execution_count": 14,
   "id": "9df829e6",
   "metadata": {},
   "outputs": [
    {
     "data": {
      "text/plain": [
       "75925.17"
      ]
     },
     "execution_count": 14,
     "metadata": {},
     "output_type": "execute_result"
    }
   ],
   "source": [
    "file['Salary'].mean()"
   ]
  },
  {
   "cell_type": "code",
   "execution_count": 15,
   "id": "b977029b",
   "metadata": {},
   "outputs": [
    {
     "data": {
      "text/plain": [
       "75881.3455882353"
      ]
     },
     "execution_count": 15,
     "metadata": {},
     "output_type": "execute_result"
    }
   ],
   "source": [
    " file[file['Department'] == 'IT']['Salary'].mean()"
   ]
  },
  {
   "cell_type": "code",
   "execution_count": 16,
   "id": "a446d050",
   "metadata": {},
   "outputs": [
    {
     "data": {
      "text/plain": [
       "74170.144"
      ]
     },
     "execution_count": 16,
     "metadata": {},
     "output_type": "execute_result"
    }
   ],
   "source": [
    "file[file['Department'] == 'HR']['Salary'].mean()"
   ]
  },
  {
   "cell_type": "code",
   "execution_count": 17,
   "id": "1878a565",
   "metadata": {},
   "outputs": [
    {
     "data": {
      "text/plain": [
       "77207.69841269842"
      ]
     },
     "execution_count": 17,
     "metadata": {},
     "output_type": "execute_result"
    }
   ],
   "source": [
    "file[file['Department'] == 'Marketing']['Salary'].mean()"
   ]
  },
  {
   "cell_type": "markdown",
   "id": "9f20c5a2",
   "metadata": {},
   "source": [
    "MARKETING HAS HIGHEST AVERAGE SALARY"
   ]
  },
  {
   "cell_type": "code",
   "execution_count": 18,
   "id": "58d4cc72",
   "metadata": {},
   "outputs": [
    {
     "data": {
      "text/plain": [
       "60"
      ]
     },
     "execution_count": 18,
     "metadata": {},
     "output_type": "execute_result"
    }
   ],
   "source": [
    "file[file['Department'] == 'IT']['Age'].max()"
   ]
  },
  {
   "cell_type": "code",
   "execution_count": 19,
   "id": "562f3ef0",
   "metadata": {},
   "outputs": [
    {
     "name": "stdout",
     "output_type": "stream",
     "text": [
      "Oldest Employees in Each Department:\n",
      "     EmployeeID  Name  Age  Gender Department  Salary  Experience  \\\n",
      "196         197   Doe   60  Female    Finance   73857           8   \n",
      "24           25  John   60    Male         HR   60326           1   \n",
      "60           61  Jane   60  Female         IT   57005          10   \n",
      "25           26   Doe   60    Male  Marketing   94555          16   \n",
      "\n",
      "     salary_per_year  \n",
      "196        9232.1250  \n",
      "24        60326.0000  \n",
      "60         5700.5000  \n",
      "25         5909.6875  \n",
      "\n",
      "Youngest Employees in Each Department:\n",
      "     EmployeeID  Name  Age  Gender Department  Salary  Experience  \\\n",
      "50           51  Mike   22  Female    Finance   98770          20   \n",
      "150         151  John   22    Male         HR   66959           2   \n",
      "137         138  Jane   22    Male         IT   60831          20   \n",
      "95           96   Doe   22  Female  Marketing   69342           2   \n",
      "\n",
      "     salary_per_year  \n",
      "50           4938.50  \n",
      "150         33479.50  \n",
      "137          3041.55  \n",
      "95          34671.00  \n"
     ]
    }
   ],
   "source": [
    "oldest_employee = file.loc[file.groupby('Department')['Age'].idxmax()]\n",
    "youngest_employee = file.loc[file.groupby('Department')['Age'].idxmin()]\n",
    "\n",
    "print(\"Oldest Employees in Each Department:\")\n",
    "print(oldest_employee)\n",
    "\n",
    "print(\"\\nYoungest Employees in Each Department:\")\n",
    "print(youngest_employee)\n"
   ]
  },
  {
   "cell_type": "code",
   "execution_count": 20,
   "id": "348b1cf6",
   "metadata": {},
   "outputs": [
    {
     "name": "stdout",
     "output_type": "stream",
     "text": [
      "Total Number of Employees in Each Department:\n",
      "IT           136\n",
      "Marketing    126\n",
      "HR           125\n",
      "Finance      113\n",
      "Name: Department, dtype: int64\n"
     ]
    }
   ],
   "source": [
    "total_employees_per_department = file['Department'].value_counts()\n",
    "\n",
    "print(\"Total Number of Employees in Each Department:\")\n",
    "print(total_employees_per_department)\n"
   ]
  },
  {
   "cell_type": "code",
   "execution_count": 21,
   "id": "25987bd1",
   "metadata": {},
   "outputs": [
    {
     "name": "stdout",
     "output_type": "stream",
     "text": [
      "\n",
      "Correlation between Years of Experience and Salary: -0.04358812642971551\n"
     ]
    }
   ],
   "source": [
    "correlation_experience_salary = file['Salary'].corr(file['Experience'])\n",
    "\n",
    "print(f\"\\nCorrelation between Years of Experience and Salary: {correlation_experience_salary}\")\n"
   ]
  },
  {
   "cell_type": "code",
   "execution_count": 22,
   "id": "d65576cf",
   "metadata": {},
   "outputs": [
    {
     "name": "stdout",
     "output_type": "stream",
     "text": [
      "\n",
      "Correlation between Years of Experience and Salary: -0.04358812642971551\n"
     ]
    }
   ],
   "source": [
    "correlation_experience_salary = file['Salary'].corr(file['Experience'])\n",
    "\n",
    "print(f\"\\nCorrelation between Years of Experience and Salary: {correlation_experience_salary}\")"
   ]
  },
  {
   "cell_type": "code",
   "execution_count": 35,
   "id": "3795d7dc",
   "metadata": {},
   "outputs": [
    {
     "data": {
      "image/png": "[encoded data removed]",
      "text/plain": [
       "<Figure size 640x480 with 1 Axes>"
      ]
     },
     "metadata": {},
     "output_type": "display_data"
    }
   ],
   "source": [
    "import matplotlib.pyplot as plt\n",
    "\n",
    "plt.hist(file['Age'], bins=15, edgecolor='black')\n",
    "plt.title('Histogram of Employee Ages')\n",
    "plt.xlabel('Age')\n",
    "plt.ylabel('Number of Employees')\n",
    "plt.show()\n"
   ]
  },
  {
   "cell_type": "markdown",
   "id": "c42b40e4",
   "metadata": {},
   "source": [
    "# part 3"
   ]
  },
  {
   "cell_type": "markdown",
   "id": "5dc5447b",
   "metadata": {},
   "source": [
    "Group the Data by Department and Calculate Total Salary and Average Years of Experience for Each Department:\n"
   ]
  },
  {
   "cell_type": "code",
   "execution_count": 24,
   "id": "95b982d5",
   "metadata": {},
   "outputs": [
    {
     "name": "stdout",
     "output_type": "stream",
     "text": [
      "Total Salary and Average Years of Experience for Each Department:\n",
      "              Salary  Experience\n",
      "Department                      \n",
      "Finance      8643284   10.707965\n",
      "HR           9271268   10.888000\n",
      "IT          10319863   10.411765\n",
      "Marketing    9728170   10.984127\n"
     ]
    }
   ],
   "source": [
    "\n",
    "department_stats = file.groupby('Department').agg({'Salary': 'sum', 'Experience': 'mean'})\n",
    "print(\"Total Salary and Average Years of Experience for Each Department:\")\n",
    "print(department_stats)"
   ]
  },
  {
   "cell_type": "markdown",
   "id": "50036504",
   "metadata": {},
   "source": [
    "Identify the Top 5 Earners in the Company:\n",
    "\n"
   ]
  },
  {
   "cell_type": "code",
   "execution_count": 25,
   "id": "1e3fb02b",
   "metadata": {},
   "outputs": [
    {
     "name": "stdout",
     "output_type": "stream",
     "text": [
      "\n",
      "Top 5 Earners in the Company:\n",
      "     EmployeeID  Name  Age  Gender Department  Salary  Experience  \\\n",
      "468         469  John   48    Male         HR   99859          18   \n",
      "255         256   Doe   35    Male         IT   99726           2   \n",
      "419         420  Mike   59    Male         HR   99634          17   \n",
      "284         285  John   56  Female  Marketing   99606          14   \n",
      "39           40  Jane   28  Female    Finance   99458           1   \n",
      "\n",
      "     salary_per_year  \n",
      "468      5547.722222  \n",
      "255     49863.000000  \n",
      "419      5860.823529  \n",
      "284      7114.714286  \n",
      "39      99458.000000  \n"
     ]
    }
   ],
   "source": [
    "\n",
    "top_earners = file.nlargest(5, 'Salary')\n",
    "print(\"\\nTop 5 Earners in the Company:\")\n",
    "print(top_earners)"
   ]
  },
  {
   "cell_type": "markdown",
   "id": "34a0ec37",
   "metadata": {},
   "source": [
    "Create a Pivot Table for Average Salary and Years of Experience by Gender and Department:\n"
   ]
  },
  {
   "cell_type": "code",
   "execution_count": 26,
   "id": "fa796889",
   "metadata": {},
   "outputs": [
    {
     "name": "stdout",
     "output_type": "stream",
     "text": [
      "\n",
      "Pivot Table for Average Salary and Years of Experience by Gender and Department:\n",
      "           Experience                                        Salary  \\\n",
      "Department    Finance         HR         IT Marketing       Finance   \n",
      "Gender                                                                \n",
      "Female      11.407407  11.375000  10.357143  10.61194  76015.370370   \n",
      "Male        10.067797  10.492754  10.450000  11.40678  76922.949153   \n",
      "\n",
      "                                                      \n",
      "Department            HR            IT     Marketing  \n",
      "Gender                                                \n",
      "Female      73541.428571  75733.446429  75630.477612  \n",
      "Male        74680.405797  75984.875000  78998.779661  \n"
     ]
    }
   ],
   "source": [
    "\n",
    "pivot_table_gender_department = pd.pivot_table(file, values=['Salary', 'Experience'], index=['Gender'], columns=['Department'], aggfunc={'Salary': 'mean', 'Experience': 'mean'})\n",
    "print(\"\\nPivot Table for Average Salary and Years of Experience by Gender and Department:\")\n",
    "print(pivot_table_gender_department)"
   ]
  },
  {
   "cell_type": "markdown",
   "id": "87d524f6",
   "metadata": {},
   "source": [
    "Perform a Statistical Test for Salary Differences Between Male and Female Employees:"
   ]
  },
  {
   "cell_type": "code",
   "execution_count": 27,
   "id": "f521a9aa",
   "metadata": {},
   "outputs": [
    {
     "name": "stdout",
     "output_type": "stream",
     "text": [
      "\n",
      "T-Statistic: 0.9882092127566295\n",
      "P-Value: 0.32353008075719225\n"
     ]
    }
   ],
   "source": [
    "from scipy.stats import ttest_ind\n",
    "\n",
    "# Assuming 'Male' and 'Female' are the two groups\n",
    "male_salary = file[file['Gender'] == 'Male']['Salary']\n",
    "female_salary = file[file['Gender'] == 'Female']['Salary']\n",
    "\n",
    "# Perform t-test\n",
    "t_statistic, p_value = ttest_ind(male_salary, female_salary)\n",
    "\n",
    "print(f\"\\nT-Statistic: {t_statistic}\")\n",
    "print(f\"P-Value: {p_value}\")\n",
    "\n",
    "# Check if the p-value is below a significance level (e.g., 0.05) to determine significance\n"
   ]
  },
  {
   "cell_type": "markdown",
   "id": "25fbdf1a",
   "metadata": {},
   "source": [
    "# part 4"
   ]
  },
  {
   "cell_type": "markdown",
   "id": "319a218c",
   "metadata": {},
   "source": [
    "# Bar Chart for Average Salary by Department:"
   ]
  },
  {
   "cell_type": "code",
   "execution_count": 28,
   "id": "1309776d",
   "metadata": {},
   "outputs": [
    {
     "data": {
      "image/png": "[encoded data removed]",
      "text/plain": [
       "<Figure size 640x480 with 1 Axes>"
      ]
     },
     "metadata": {},
     "output_type": "display_data"
    }
   ],
   "source": [
    "\n",
    "\n",
    "average_salary_by_department = file.groupby('Department')['Salary'].mean()\n",
    "\n",
    "# Create a bar chart\n",
    "average_salary_by_department.plot(kind='bar', color='skyblue')\n",
    "plt.title('Average Salary by Department')\n",
    "plt.xlabel('Department')\n",
    "plt.ylabel('Average Salary')\n",
    "plt.show()\n"
   ]
  },
  {
   "cell_type": "markdown",
   "id": "71cba30c",
   "metadata": {},
   "source": [
    "Scatter Plot for Relationship Between Years of Experience and Salary:"
   ]
  },
  {
   "cell_type": "code",
   "execution_count": 29,
   "id": "c4e9c1e3",
   "metadata": {},
   "outputs": [
    {
     "data": {
      "image/png": "[encoded data removed]",
      "text/plain": [
       "<Figure size 640x480 with 1 Axes>"
      ]
     },
     "metadata": {},
     "output_type": "display_data"
    }
   ],
   "source": [
    "# Create a scatter plot\n",
    "plt.scatter(file['Experience'], file['Salary'], alpha=0.5, color='orange')\n",
    "plt.title('Scatter Plot: Years of Experience vs Salary')\n",
    "plt.xlabel('Years of Experience')\n",
    "plt.ylabel('Salary')\n",
    "plt.show()\n"
   ]
  },
  {
   "cell_type": "markdown",
   "id": "a092e09f",
   "metadata": {},
   "source": [
    "Boxplot for the Distribution of Salaries in the Company:"
   ]
  },
  {
   "cell_type": "code",
   "execution_count": 37,
   "id": "78112b7f",
   "metadata": {},
   "outputs": [
    {
     "data": {
      "image/png": "[encoded data removed]",
      "text/plain": [
       "<Figure size 640x480 with 1 Axes>"
      ]
     },
     "metadata": {},
     "output_type": "display_data"
    }
   ],
   "source": [
    "# Create a boxplot\n",
    "plt.boxplot(file['Salary'])\n",
    "plt.title('Boxplot: Distribution of Salaries in the Company')\n",
    "plt.xlabel(\"Years of Experience\")\n",
    "plt.ylabel('Salary')\n",
    "plt.show()\n"
   ]
  },
  {
   "cell_type": "markdown",
   "id": "2bddd0fb",
   "metadata": {},
   "source": [
    "Additional Visualization: Pie Chart for Gender Distribution:"
   ]
  },
  {
   "cell_type": "code",
   "execution_count": 31,
   "id": "c59b1f3e",
   "metadata": {},
   "outputs": [
    {
     "data": {
      "image/png": "[encoded data removed]",
      "text/plain": [
       "<Figure size 640x480 with 1 Axes>"
      ]
     },
     "metadata": {},
     "output_type": "display_data"
    }
   ],
   "source": [
    "gender_distribution = file['Gender'].value_counts()\n",
    "\n",
    "# Create a pie chart\n",
    "gender_distribution.plot(kind='pie', autopct='%1.1f%%', colors=['lightblue', 'lightpink'])\n",
    "plt.title('Gender Distribution in the Company')\n",
    "plt.show()\n"
   ]
  },
  {
   "cell_type": "code",
   "execution_count": null,
   "id": "26dfb3ed",
   "metadata": {},
   "outputs": [],
   "source": []
  }
 ],
 "metadata": {
  "kernelspec": {
   "display_name": "Python 3 (ipykernel)",
   "language": "python",
   "name": "python3"
  },
  "language_info": {
   "codemirror_mode": {
    "name": "ipython",
    "version": 3
   },
   "file_extension": ".py",
   "mimetype": "text/x-python",
   "name": "python",
   "nbconvert_exporter": "python",
   "pygments_lexer": "ipython3",
   "version": "3.7.8"
  }
 },
 "nbformat": 4,
 "nbformat_minor": 5
}
